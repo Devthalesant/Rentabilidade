{
 "cells": [
  {
   "cell_type": "code",
   "execution_count": 1,
   "id": "c46e1b53",
   "metadata": {},
   "outputs": [],
   "source": [
    "from Functions.mongo import *\n",
    "from Bases import *\n",
    "import pandas as pd\n"
   ]
  },
  {
   "cell_type": "code",
   "execution_count": null,
   "id": "faba7353",
   "metadata": {},
   "outputs": [],
   "source": [
    "df = pd.read_csv(\"C:/Users/novo1/OneDrive/Desktop/Dev/Rentabilidade Anual/Bases/Agendamento/2024/appointments_2024_concat.csv\",low_memory=False)\n",
    "\n",
    "base = df.to_dict(orient='records')\n",
    "\n",
    "base"
   ]
  },
  {
   "cell_type": "code",
   "execution_count": null,
   "id": "bfce11cd",
   "metadata": {},
   "outputs": [],
   "source": [
    "pegar_dados_mongodb(\"rentabilidade_anual\",\"agendamentos_2024\")"
   ]
  },
  {
   "cell_type": "code",
   "execution_count": 4,
   "id": "e463ef4f",
   "metadata": {},
   "outputs": [],
   "source": [
    "import pandas as pd\n",
    "from pymongo import MongoClient\n",
    "import streamlit as st\n",
    "\n",
    "# Improved secret handling with error message\n",
    "try:\n",
    "    uri = st.secrets[\"mongo_credentials\"][\"uri\"]\n",
    "except (AttributeError, KeyError):\n",
    "    print(\"MongoDB credentials not found in secrets.toml\")"
   ]
  }
 ],
 "metadata": {
  "kernelspec": {
   "display_name": "Python 3",
   "language": "python",
   "name": "python3"
  },
  "language_info": {
   "codemirror_mode": {
    "name": "ipython",
    "version": 3
   },
   "file_extension": ".py",
   "mimetype": "text/x-python",
   "name": "python",
   "nbconvert_exporter": "python",
   "pygments_lexer": "ipython3",
   "version": "3.11.9"
  }
 },
 "nbformat": 4,
 "nbformat_minor": 5
}
