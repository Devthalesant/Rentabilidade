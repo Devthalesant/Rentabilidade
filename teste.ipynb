{
 "cells": [
  {
   "cell_type": "code",
   "execution_count": 1,
   "id": "c46e1b53",
   "metadata": {},
   "outputs": [],
   "source": [
    "from mongo import *\n",
    "from Bases import *\n",
    "import pandas as pd"
   ]
  },
  {
   "cell_type": "code",
   "execution_count": 2,
   "id": "faba7353",
   "metadata": {},
   "outputs": [
    {
     "data": {
      "text/plain": [
       "[{'Mês': 'Janeiro',\n",
       "  'Taxa_cartão': 0.083,\n",
       "  'Impostos': 0.076,\n",
       "  'Comissao': 0.04,\n",
       "  'Custo_Sobre_Venda': 0.199},\n",
       " {'Mês': 'Fevereiro',\n",
       "  'Taxa_cartão': 0.077,\n",
       "  'Impostos': 0.078,\n",
       "  'Comissao': 0.04,\n",
       "  'Custo_Sobre_Venda': 0.195},\n",
       " {'Mês': 'Março',\n",
       "  'Taxa_cartão': 0.079,\n",
       "  'Impostos': 0.082,\n",
       "  'Comissao': 0.04,\n",
       "  'Custo_Sobre_Venda': 0.201},\n",
       " {'Mês': 'Abril',\n",
       "  'Taxa_cartão': 0.066,\n",
       "  'Impostos': 0.0606,\n",
       "  'Comissao': 0.04,\n",
       "  'Custo_Sobre_Venda': 0.1666},\n",
       " {'Mês': 'Maio',\n",
       "  'Taxa_cartão': 0.079,\n",
       "  'Impostos': 0.064,\n",
       "  'Comissao': 0.04,\n",
       "  'Custo_Sobre_Venda': 0.18300000000000002}]"
      ]
     },
     "execution_count": 2,
     "metadata": {},
     "output_type": "execute_result"
    }
   ],
   "source": [
    "df = pd.read_excel(\"C:/Users/novo1/OneDrive/Desktop/Dev/Rentabilidade Anual/Bases/Custos Fixos/2025/CF-txSala_Mensal.xlsx\", sheet_name=\"IMP + CART\")\n",
    "\n",
    "base = df.to_dict(orient='records')\n",
    "\n",
    "base\n"
   ]
  },
  {
   "cell_type": "code",
   "execution_count": 3,
   "id": "8d2c94e6",
   "metadata": {},
   "outputs": [
    {
     "data": {
      "text/plain": [
       "InsertManyResult([ObjectId('6855ad9466e0442d3cf0283b'), ObjectId('6855ad9466e0442d3cf0283c'), ObjectId('6855ad9466e0442d3cf0283d'), ObjectId('6855ad9466e0442d3cf0283e'), ObjectId('6855ad9466e0442d3cf0283f')], acknowledged=True)"
      ]
     },
     "execution_count": 3,
     "metadata": {},
     "output_type": "execute_result"
    }
   ],
   "source": [
    "subir_dados_mongodb(\"rentabilidade_anual\",\"impostos_taxas_2025\",base)\n"
   ]
  },
  {
   "cell_type": "code",
   "execution_count": null,
   "id": "bfce11cd",
   "metadata": {},
   "outputs": [],
   "source": [
    "pegar_dados_mongodb(\"rentabilidade_anual\",\"custos_fixos_2025\")"
   ]
  }
 ],
 "metadata": {
  "kernelspec": {
   "display_name": "Python 3",
   "language": "python",
   "name": "python3"
  },
  "language_info": {
   "codemirror_mode": {
    "name": "ipython",
    "version": 3
   },
   "file_extension": ".py",
   "mimetype": "text/x-python",
   "name": "python",
   "nbconvert_exporter": "python",
   "pygments_lexer": "ipython3",
   "version": "3.11.9"
  }
 },
 "nbformat": 4,
 "nbformat_minor": 5
}
